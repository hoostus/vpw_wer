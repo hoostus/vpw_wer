{
 "metadata": {
  "celltoolbar": "Slideshow",
  "name": "",
  "signature": "sha256:24d9d130d08215e850cbe16b4b4e190295c6dd706769e89fd53e580a3d9a2e1b"
 },
 "nbformat": 3,
 "nbformat_minor": 0,
 "worksheets": [
  {
   "cells": [
    {
     "cell_type": "heading",
     "level": 1,
     "metadata": {
      "slideshow": {
       "slide_type": "slide"
      }
     },
     "source": [
      "WER of VPW"
     ]
    },
    {
     "cell_type": "markdown",
     "metadata": {
      "slideshow": {
       "slide_type": "slide"
      }
     },
     "source": [
      "Based on [\"Optimal Withdrawal Strategies for Retirement Income Portfolios\" (2012)](http://corporate.morningstar.com/ib/documents/methodologydocuments/optimalwithdrawlstrategyretirementincomeportfolios.pdf)\n",
      "by Blanchett, Kowara, and Chen"
     ]
    },
    {
     "cell_type": "code",
     "collapsed": false,
     "input": [
      "%matplotlib inline\n",
      "import numpy as np\n",
      "import pandas as pd\n",
      "import seaborn as sns\n",
      "import matplotlib.pyplot as plt\n",
      "import itertools\n",
      "import functools\n",
      "import operator\n",
      "\n",
      "sns.set(color_codes=True)"
     ],
     "language": "python",
     "metadata": {
      "slideshow": {
       "slide_type": "skip"
      }
     },
     "outputs": [],
     "prompt_number": 150
    },
    {
     "cell_type": "heading",
     "level": 2,
     "metadata": {
      "slideshow": {
       "slide_type": "slide"
      }
     },
     "source": [
      "Monte Carlo for Mortality"
     ]
    },
    {
     "cell_type": "code",
     "collapsed": false,
     "input": [
      "# based on http://www.ssa.gov/OACT/STATS/table4c6.html Period Life Table, 2009\n",
      "# https://drive.google.com/open?id=0Bx-R9jPONgMgX0ktTUVFbVU0TEU\n",
      "lifetable_for_women = [\n",
      "\t0.010298, # 65\n",
      "\t0.011281,\n",
      "\t0.012370,\n",
      "\t0.013572,\n",
      "\t0.014908,\n",
      "\t0.016440, # 70\n",
      "\t0.018162,\n",
      "\t0.020019,\n",
      "\t0.022003,\n",
      "\t0.024173,\n",
      "\t0.026706, # 75\n",
      "\t0.029603,\n",
      "\t0.032718,\n",
      "\t0.036034,\n",
      "\t0.039683,\n",
      "\t0.043899, # 80\n",
      "\t0.048807,\n",
      "\t0.054374,\n",
      "\t0.060661,\n",
      "\t0.067751,\n",
      "\t0.075729, # 85\n",
      "\t0.084673,\n",
      "\t0.094645,\n",
      "\t0.105694,\n",
      "\t0.117853,\n",
      "\t0.131146, # 90\n",
      "\t0.145585,\n",
      "\t0.161175,\n",
      "\t0.177910,\n",
      "\t0.195774,\n",
      "\t0.213849, # 95\n",
      "    0.231865,\n",
      "    0.249525,\n",
      "    0.266514,\n",
      "    0.282504,\n",
      "    0.299455, # 100\n",
      "    0.317422, \n",
      "    0.336467,\n",
      "    0.356655, \n",
      "    0.378055, \n",
      "    0.400738, # 105\n",
      "    0.424782, \n",
      "    0.450269, \n",
      "    0.477285, \n",
      "    0.505922, \n",
      "    0.536278, # 110\n",
      "    0.568454, \n",
      "    0.602561, \n",
      "    0.638715, \n",
      "    0.677038, \n",
      "    0.717660, # 115\n",
      "    0.760720, \n",
      "    0.806363, \n",
      "    0.851378,\n",
      "    0.893947 # 119 \n",
      "]"
     ],
     "language": "python",
     "metadata": {
      "slideshow": {
       "slide_type": "notes"
      }
     },
     "outputs": [],
     "prompt_number": 151
    },
    {
     "cell_type": "code",
     "collapsed": false,
     "input": [
      "import random\n",
      "def die(age):\n",
      "    if age >= len(lifetable_for_women): return age\n",
      "    if random.random() <= lifetable_for_women[age]:\n",
      "        return age\n",
      "    else:\n",
      "        return die(age + 1)"
     ],
     "language": "python",
     "metadata": {
      "slideshow": {
       "slide_type": "skip"
      }
     },
     "outputs": [],
     "prompt_number": 152
    },
    {
     "cell_type": "code",
     "collapsed": false,
     "input": [
      "def gen_age():\n",
      "    return die(0) + 65"
     ],
     "language": "python",
     "metadata": {
      "slideshow": {
       "slide_type": "skip"
      }
     },
     "outputs": [],
     "prompt_number": 153
    },
    {
     "cell_type": "code",
     "collapsed": false,
     "input": [
      "# Just to show what the overall mortality curve looks like\n",
      "ages = []\n",
      "for _ in range(250000):\n",
      "    ages.append(gen_age())\n",
      "ages = pd.Series(ages, name='Age at death')\n",
      "sns.distplot(ages)"
     ],
     "language": "python",
     "metadata": {
      "slideshow": {
       "slide_type": "slide"
      }
     },
     "outputs": [
      {
       "metadata": {},
       "output_type": "pyout",
       "prompt_number": 204,
       "text": [
        "<matplotlib.axes._subplots.AxesSubplot at 0x7f11caede590>"
       ]
      },
      {
       "metadata": {},
       "output_type": "display_data",
       "png": "[encoded data removed]",
       "text": [
        "<matplotlib.figure.Figure at 0x7f11caf992d0>"
       ]
      }
     ],
     "prompt_number": 204
    },
    {
     "cell_type": "heading",
     "level": 2,
     "metadata": {},
     "source": [
      "Monte Carlo for Market Returns"
     ]
    },
    {
     "cell_type": "code",
     "collapsed": false,
     "input": [
      "# import US based data from 1871 from the simba backtesting spreadsheet found on bogleheads.org\n",
      "# https://www.bogleheads.org/forum/viewtopic.php?p=2753812#p2753812\n",
      "dataframe = pd.read_csv('returns.csv')\n",
      "dataframe.head()"
     ],
     "language": "python",
     "metadata": {
      "slideshow": {
       "slide_type": "slide"
      }
     },
     "outputs": [
      {
       "html": [
        "<div style=\"max-height:1000px;max-width:1500px;overflow:auto;\">\n",
        "<table border=\"1\" class=\"dataframe\">\n",
        "  <thead>\n",
        "    <tr style=\"text-align: right;\">\n",
        "      <th></th>\n",
        "      <th>Year</th>\n",
        "      <th>Bonds</th>\n",
        "      <th>Stocks</th>\n",
        "      <th>Inflation</th>\n",
        "    </tr>\n",
        "  </thead>\n",
        "  <tbody>\n",
        "    <tr>\n",
        "      <th>0</th>\n",
        "      <td> 1871</td>\n",
        "      <td> 2.46</td>\n",
        "      <td> 15.12</td>\n",
        "      <td> 1.53</td>\n",
        "    </tr>\n",
        "    <tr>\n",
        "      <th>1</th>\n",
        "      <td> 1872</td>\n",
        "      <td> 3.46</td>\n",
        "      <td> 11.13</td>\n",
        "      <td> 2.26</td>\n",
        "    </tr>\n",
        "    <tr>\n",
        "      <th>2</th>\n",
        "      <td> 1873</td>\n",
        "      <td> 8.00</td>\n",
        "      <td> -2.51</td>\n",
        "      <td>-4.41</td>\n",
        "    </tr>\n",
        "    <tr>\n",
        "      <th>3</th>\n",
        "      <td> 1874</td>\n",
        "      <td> 9.58</td>\n",
        "      <td>  4.33</td>\n",
        "      <td>-6.92</td>\n",
        "    </tr>\n",
        "    <tr>\n",
        "      <th>4</th>\n",
        "      <td> 1875</td>\n",
        "      <td> 5.53</td>\n",
        "      <td>  4.67</td>\n",
        "      <td>-5.79</td>\n",
        "    </tr>\n",
        "  </tbody>\n",
        "</table>\n",
        "</div>"
       ],
       "metadata": {},
       "output_type": "pyout",
       "prompt_number": 155,
       "text": [
        "   Year  Bonds  Stocks  Inflation\n",
        "0  1871   2.46   15.12       1.53\n",
        "1  1872   3.46   11.13       2.26\n",
        "2  1873   8.00   -2.51      -4.41\n",
        "3  1874   9.58    4.33      -6.92\n",
        "4  1875   5.53    4.67      -5.79"
       ]
      }
     ],
     "prompt_number": 155
    },
    {
     "cell_type": "code",
     "collapsed": false,
     "input": [
      "def shuffle(df, n=1, axis=0):\n",
      "    index = list(df.index)\n",
      "    random.shuffle(index)\n",
      "    df = df.ix[index]\n",
      "    df.reset_index()\n",
      "    return df"
     ],
     "language": "python",
     "metadata": {
      "slideshow": {
       "slide_type": "skip"
      }
     },
     "outputs": [],
     "prompt_number": 156
    },
    {
     "cell_type": "markdown",
     "metadata": {
      "slideshow": {
       "slide_type": "slide"
      }
     },
     "source": [
      "Generate monte carlo returns based on shuffling historical data.\n",
      "\n",
      "The actual WER calculated is *extremely* sensitive to the model used for simulating returns. The more generous the model, the higher the SSR will be (since it can calculate a maximal strategy) and the lower the WER of most strategies.\n",
      "\n",
      "This means that it is hard to compare WER's across research unless are using the same monte carlo simulations, as far as I can tell.\n",
      "\n",
      "The *relative* performance of strategies should be the same across research but the absolute WER will vary."
     ]
    },
    {
     "cell_type": "code",
     "collapsed": false,
     "input": [
      "def personal_returns(dataframe, age=None, inflation=False, adjustment=0.0):\n",
      "    df = shuffle(dataframe.copy())\n",
      "    if age == None:\n",
      "        age = gen_age()\n",
      "    lifetime_returns = []\n",
      "    for _ in range(age - 64):\n",
      "        row = df.iloc[_]\n",
      "        bonds = row['Bonds']\n",
      "        stocks = row['Stocks']\n",
      "        annual_returns = (bonds * .4) + (stocks * .6)\n",
      "        # The Morningstar paper isn't clear whether they use real returns or not.\n",
      "        # I'll assume not and leave out the inflation adjustment.\n",
      "        if inflation:\n",
      "            annual_returns -= row['Inflation']\n",
      "        if adjustment:\n",
      "            annual_returns += adjustment\n",
      "        lifetime_returns.append(annual_returns / 100)\n",
      "    return lifetime_returns"
     ],
     "language": "python",
     "metadata": {
      "slideshow": {
       "slide_type": "slide"
      }
     },
     "outputs": [],
     "prompt_number": 206
    },
    {
     "cell_type": "code",
     "collapsed": false,
     "input": [
      "def prod(x):\n",
      "    return functools.reduce(operator.mul, x, 1)"
     ],
     "language": "python",
     "metadata": {
      "slideshow": {
       "slide_type": "skip"
      }
     },
     "outputs": [],
     "prompt_number": 207
    },
    {
     "cell_type": "code",
     "collapsed": false,
     "input": [
      "def ssr(r):\n",
      "    def ssr_seq(r):\n",
      "        if len(r) == 0: return 1\n",
      "        else:\n",
      "            denom = prod(map(lambda x: x + 1, r))\n",
      "            return (1 / denom) + ssr_seq(r[1:])\n",
      "\n",
      "    # skip the final year of returns (since you have withdrawn the entire portfolio at the beginning of the year,\n",
      "    # knowing that you will die this year)\n",
      "    r_r = list(reversed(r[:-1]))\n",
      "    return 1 / ssr_seq(r_r)"
     ],
     "language": "python",
     "metadata": {
      "slideshow": {
       "slide_type": "slide"
      }
     },
     "outputs": [],
     "prompt_number": 208
    },
    {
     "cell_type": "code",
     "collapsed": false,
     "input": [
      "# test that I've implemented SSR correctly.\n",
      "\n",
      "pr = [0.067040000000000002, -0.049419999999999999, 0.20482000000000003, 0.28746000000000005]\n",
      "print('SSR  %f' % ssr(pr))\n",
      "\n",
      "a0 = pr[0] + 1\n",
      "a1 = pr[1] + 1\n",
      "a2 = pr[2] + 1\n",
      "a3 = pr[3] + 1\n",
      "\n",
      "hand_ssr = (1.0\n",
      "            / (1\n",
      "                + (1/ (a0))\n",
      "                + (1/ (a0 * a1))\n",
      "                + (1/ (a0 * a1 * a2))\n",
      "            )\n",
      ")\n",
      "print('Hand %f' % hand_ssr)"
     ],
     "language": "python",
     "metadata": {
      "slideshow": {
       "slide_type": "skip"
      }
     },
     "outputs": [
      {
       "output_type": "stream",
       "stream": "stdout",
       "text": [
        "SSR  0.267283\n",
        "Hand 0.267283\n"
       ]
      }
     ],
     "prompt_number": 209
    },
    {
     "cell_type": "code",
     "collapsed": false,
     "input": [
      "def cew(cashflows):\n",
      "    # the paper says that results aren't sensitive to changing this (which turns out to be true!)\n",
      "    gamma = 4.0\n",
      "    \n",
      "    def sigma(c):\n",
      "        return pow(c, -gamma) / gamma\n",
      "    \n",
      "    constant_factor = 1.0 / len(cashflows) * gamma\n",
      "    base = constant_factor * sum(map(sigma, cashflows))\n",
      "    return pow(base, -1/gamma)"
     ],
     "language": "python",
     "metadata": {
      "slideshow": {
       "slide_type": "slide"
      }
     },
     "outputs": [],
     "prompt_number": 210
    },
    {
     "cell_type": "code",
     "collapsed": false,
     "input": [
      "# test CEW\n",
      "print(cew([0.05, 0.055, 0.06]))\n",
      "print('0.05424659419') # calculated from a google spreadsheet"
     ],
     "language": "python",
     "metadata": {},
     "outputs": [
      {
       "output_type": "stream",
       "stream": "stdout",
       "text": [
        "0.0542465941947\n",
        "0.05424659419\n"
       ]
      }
     ],
     "prompt_number": 211
    },
    {
     "cell_type": "code",
     "collapsed": false,
     "input": [
      "# starting at age 65, based on 60% domestic stocks, 40% domestic bonds\n",
      "vpw_rates = map(lambda x: x/100.0, [5.0,\n",
      "    5.1,\n",
      "    5.1,\n",
      "    5.2,\n",
      "    5.3,\n",
      "    5.4,\n",
      "    5.5,\n",
      "    5.6,\n",
      "    5.7,\n",
      "    5.9,\n",
      "    6.0,\n",
      "    6.2,\n",
      "    6.3,\n",
      "    6.5,\n",
      "    6.7,\n",
      "    6.9,\n",
      "    7.2,\n",
      "    7.5,\n",
      "    7.8,\n",
      "    8.1,\n",
      "    8.5,\n",
      "    9.0,\n",
      "    9.5,\n",
      "    10.1,\n",
      "    10.9,\n",
      "    11.7,\n",
      "    12.8,\n",
      "    14.2,\n",
      "    15.9,\n",
      "    18.2,\n",
      "    21.5,\n",
      "    # diverge from the actual VPW...never exhaust the porfolio, just take 25% forever\n",
      "    25.0, #25.4,\n",
      "    25.0, #34.6,\n",
      "    25.0, #50.9,\n",
      "    25.0, #100\n",
      "    25.0,\n",
      "    25.0,\n",
      "    25.0,\n",
      "    25.0,\n",
      "    25.0,\n",
      "    25.0,\n",
      "    25.0,\n",
      "    25.0,\n",
      "    25.0,\n",
      "    25.0,\n",
      "    25.0,\n",
      "    25.0,\n",
      "    25.0,\n",
      "    25.0,\n",
      "    25.0,\n",
      "    25.0,\n",
      "    25.0,\n",
      "    25.0,\n",
      "    25.0,\n",
      "    25.0,\n",
      "    25.0,\n",
      "    25.0,\n",
      "])\n",
      "cew(vpw_rates)"
     ],
     "language": "python",
     "metadata": {
      "slideshow": {
       "slide_type": "notes"
      }
     },
     "outputs": [
      {
       "metadata": {},
       "output_type": "pyout",
       "prompt_number": 212,
       "text": [
        "0.07515574150628429"
       ]
      }
     ],
     "prompt_number": 212
    },
    {
     "cell_type": "code",
     "collapsed": false,
     "input": [
      "def vpw_wer(p, s):   \n",
      "    lifespan = len(p)\n",
      "    v = vpw_rates[0:lifespan]\n",
      "    \n",
      "    w = cew(v) / s\n",
      "    return w"
     ],
     "language": "python",
     "metadata": {
      "slideshow": {
       "slide_type": "slide"
      }
     },
     "outputs": [],
     "prompt_number": 213
    },
    {
     "cell_type": "code",
     "collapsed": false,
     "input": [
      "def endow_wer(p, s):\n",
      "    ''' use a constant 5.5% withdrawal '''\n",
      "    lifespan = len(p)\n",
      "    r = list(itertools.repeat(.055, lifespan))\n",
      "    w = cew(r) / s\n",
      "    return w"
     ],
     "language": "python",
     "metadata": {
      "slideshow": {
       "slide_type": "slide"
      }
     },
     "outputs": [],
     "prompt_number": 214
    },
    {
     "cell_type": "code",
     "collapsed": false,
     "input": [
      "life_expectancy = [\n",
      "# from the Annuity 2000 table A-1\n",
      "# starting age 65\n",
      "    23.02,\n",
      "    22.16,\n",
      "    21.31,\n",
      "    20.47,\n",
      "    19.63,\n",
      "    18.81, # 70\n",
      "    17.99,\n",
      "    17.17,\n",
      "    16.40,\n",
      "    15.62,\n",
      "    14.86, # 75\n",
      "    14.12,\n",
      "    13.40,\n",
      "    12.69,\n",
      "    12.01,\n",
      "    11.34, #80\n",
      "    10.70,\n",
      "    10.08,\n",
      "    9.48,\n",
      "    8.91,\n",
      "    8.37, # 85\n",
      "    7.85,\n",
      "    7.37,\n",
      "    6.91,\n",
      "    6.48,\n",
      "    6.08, # 90\n",
      "    5.72,\n",
      "    5.38,\n",
      "    5.06,\n",
      "    4.77,\n",
      "    4.50, # 95\n",
      "    4.24,\n",
      "    4.0,\n",
      "    3.76,\n",
      "    3.52,\n",
      "    3.29, # 100\n",
      "    3.05,\n",
      "    2.81,\n",
      "    2.58,\n",
      "    2.35,\n",
      "    2.12, # 105\n",
      "    1.91,\n",
      "    1.70,\n",
      "    1.51,\n",
      "    1.33,\n",
      "    1.16, # 110\n",
      "    # now just pad it out\n",
      "    1,\n",
      "    1,\n",
      "    1,\n",
      "    1,\n",
      "    1,\n",
      "    1,\n",
      "    1,\n",
      "    1,\n",
      "]\n",
      "rmd_rates = map(lambda x: 1.0 / x, life_expectancy)"
     ],
     "language": "python",
     "metadata": {
      "slideshow": {
       "slide_type": "notes"
      }
     },
     "outputs": [],
     "prompt_number": 215
    },
    {
     "cell_type": "code",
     "collapsed": false,
     "input": [
      "def rmd_wer(p, s):\n",
      "    lifespan = len(p)\n",
      "    v = rmd_rates[0:lifespan]\n",
      "    \n",
      "    w = cew(v) / s\n",
      "    return w"
     ],
     "language": "python",
     "metadata": {
      "slideshow": {
       "slide_type": "slide"
      }
     },
     "outputs": [],
     "prompt_number": 216
    },
    {
     "cell_type": "heading",
     "level": 2,
     "metadata": {},
     "source": [
      "Compare Three Strategies"
     ]
    },
    {
     "cell_type": "code",
     "collapsed": false,
     "input": [
      "vpw_wers = []\n",
      "endow_wers = []\n",
      "rmd_wers = []\n",
      "\n",
      "for _ in range(25000):\n",
      "    p = personal_returns(dataframe.copy())\n",
      "    \n",
      "    s = ssr(p)\n",
      "    \n",
      "    vpw_wers.append(vpw_wer(p, s))\n",
      "    endow_wers.append(endow_wer(p, s))\n",
      "    rmd_wers.append(rmd_wer(p, s))\n",
      "    \n",
      "series = pd.Series({\n",
      "    'VPW' : np.average(vpw_wers),\n",
      "    'Endowment' : np.average(endow_wers),\n",
      "    'RMD': np.average(rmd_wers),\n",
      "})\n",
      "\n",
      "series.plot(kind='bar')\n",
      "series.head()"
     ],
     "language": "python",
     "metadata": {
      "slideshow": {
       "slide_type": "slide"
      }
     },
     "outputs": [
      {
       "metadata": {},
       "output_type": "pyout",
       "prompt_number": 223,
       "text": [
        "Endowment    0.594138\n",
        "RMD          0.646805\n",
        "VPW          0.650810\n",
        "dtype: float64"
       ]
      },
      {
       "metadata": {},
       "output_type": "display_data",
       "png": "[encoded data removed]",
       "text": [
        "<matplotlib.figure.Figure at 0x7f11ca7316d0>"
       ]
      }
     ],
     "prompt_number": 223
    },
    {
     "cell_type": "heading",
     "level": 3,
     "metadata": {},
     "source": [
      "Show impact of inflation-adjusting market monte carlo"
     ]
    },
    {
     "cell_type": "code",
     "collapsed": false,
     "input": [
      "vpw1_wers = []\n",
      "\n",
      "for _ in range(25000):\n",
      "    p = personal_returns(dataframe.copy())    \n",
      "    s = ssr(p)\n",
      "    vpw1_wers.append(vpw_wer(p, s))\n",
      "\n",
      "vpw2_wers = []\n",
      "for _ in range(25000):\n",
      "    p = personal_returns(dataframe.copy(), inflation=True)\n",
      "    s = ssr(p)\n",
      "    vpw2_wers.append(vpw_wer(p, s))\n",
      "    \n",
      "series = pd.Series({\n",
      "    'Base' : np.average(vpw1_wers),\n",
      "    'Inflation-adjusted' : np.average(vpw2_wers),\n",
      "})\n",
      "\n",
      "series.plot(kind='bar')\n",
      "series.head()"
     ],
     "language": "python",
     "metadata": {},
     "outputs": [
      {
       "metadata": {},
       "output_type": "pyout",
       "prompt_number": 222,
       "text": [
        "Base                  0.653433\n",
        "Inflation-adjusted    0.798863\n",
        "dtype: float64"
       ]
      },
      {
       "metadata": {},
       "output_type": "display_data",
       "png": "[encoded data removed]",
       "text": [
        "<matplotlib.figure.Figure at 0x7f11ca869f50>"
       ]
      }
     ],
     "prompt_number": 222
    },
    {
     "cell_type": "code",
     "collapsed": false,
     "input": [
      "# chance of dying in N years of retirement\n",
      "years_of_retirement = 10\n",
      "1 - prod(map(lambda x: 1-x, lifetable_for_women[0:years_of_retirement]))"
     ],
     "language": "python",
     "metadata": {},
     "outputs": [
      {
       "metadata": {},
       "output_type": "pyout",
       "prompt_number": 187,
       "text": [
        "0.1518308184017616"
       ]
      }
     ],
     "prompt_number": 187
    },
    {
     "cell_type": "code",
     "collapsed": false,
     "input": [
      "pr = personal_returns(dataframe, age=65 - 1 + years_of_retirement)\n",
      "s = ssr(pr)\n",
      "print('Years of retirement %s. SSR %s' % (len(pr), s))\n",
      "PORTFOLIO_START = 1000000\n",
      "\n",
      "ssr_port = PORTFOLIO_START\n",
      "ssr_wd = ssr_port * s\n",
      "ssr_vals = []\n",
      "\n",
      "vpw_port = PORTFOLIO_START\n",
      "vpw_vals = []\n",
      "\n",
      "for _ in range(len(pr)):\n",
      "    # make the withdrawal at the start of the year\n",
      "    ssr_port -= ssr_wd\n",
      "    # then add in all of that year's gains\n",
      "    ssr_port += ssr_port * pr[_]\n",
      "    ssr_vals.append(ssr_port)\n",
      "    \n",
      "    vpw_wd = (vpw_rates[_] * vpw_port)\n",
      "    vpw_port -= vpw_wd\n",
      "    vpw_port += vpw_port * pr[_]\n",
      "    vpw_vals.append(vpw_port)\n",
      "\n",
      "plt.plot(ssr_vals)\n",
      "plt.plot(vpw_vals)"
     ],
     "language": "python",
     "metadata": {
      "slideshow": {
       "slide_type": "slide"
      }
     },
     "outputs": [
      {
       "output_type": "stream",
       "stream": "stdout",
       "text": [
        "Years of retirement 10. SSR 0.139255610428\n"
       ]
      },
      {
       "metadata": {},
       "output_type": "pyout",
       "prompt_number": 188,
       "text": [
        "[<matplotlib.lines.Line2D at 0x7f11cb44d090>]"
       ]
      },
      {
       "metadata": {},
       "output_type": "display_data",
       "png": "[encoded data removed]",
       "text": [
        "<matplotlib.figure.Figure at 0x7f11cb44d0d0>"
       ]
      }
     ],
     "prompt_number": 188
    },
    {
     "cell_type": "code",
     "collapsed": false,
     "input": [
      "sns.tsplot(vpw_rates[0:30], color='green')\n",
      "sns.tsplot(rmd_rates[0:30], color='blue')"
     ],
     "language": "python",
     "metadata": {},
     "outputs": [
      {
       "metadata": {},
       "output_type": "pyout",
       "prompt_number": 199,
       "text": [
        "<matplotlib.axes._subplots.AxesSubplot at 0x7f11caf2ca10>"
       ]
      },
      {
       "metadata": {},
       "output_type": "display_data",
       "png": "[encoded data removed]",
       "text": [
        "<matplotlib.figure.Figure at 0x7f11cb2f0850>"
       ]
      }
     ],
     "prompt_number": 199
    },
    {
     "cell_type": "code",
     "collapsed": false,
     "input": [
      "vpw_vs_rmd = []\n",
      "ssr_vs_rmd = []\n",
      "\n",
      "ssrate = ssr(personal_returns(dataframe.copy(), age=95))\n",
      "print('Sustainable rate for 30 years: %f' % ssrate)\n",
      "\n",
      "for _ in range(20):\n",
      "    vpw_w = vpw_rates[_]\n",
      "    rmd_w = rmd_rates[_]\n",
      "    \n",
      "    delta = vpw_w - rmd_w\n",
      "    vpw_vs_rmd.append(delta)\n",
      "\n",
      "    delta = ssrate - rmd_w\n",
      "    ssr_vs_rmd.append(delta)\n",
      "\n",
      "    \n",
      "sns.tsplot(vpw_vs_rmd, color='blue')\n",
      "sns.tsplot(ssr_vs_rmd, color='green')"
     ],
     "language": "python",
     "metadata": {
      "slideshow": {
       "slide_type": "fragment"
      }
     },
     "outputs": [
      {
       "output_type": "stream",
       "stream": "stdout",
       "text": [
        "Sustainable rate for 30 years: 0.088126\n"
       ]
      },
      {
       "metadata": {},
       "output_type": "pyout",
       "prompt_number": 203,
       "text": [
        "<matplotlib.axes._subplots.AxesSubplot at 0x7f11cb2a4e10>"
       ]
      },
      {
       "metadata": {},
       "output_type": "display_data",
       "png": "[encoded data removed]",
       "text": [
        "<matplotlib.figure.Figure at 0x7f11cad891d0>"
       ]
      }
     ],
     "prompt_number": 203
    }
   ],
   "metadata": {}
  }
 ]
}